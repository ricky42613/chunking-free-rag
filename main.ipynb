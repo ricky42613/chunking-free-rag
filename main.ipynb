{
 "cells": [
  {
   "cell_type": "code",
   "execution_count": 1,
   "metadata": {},
   "outputs": [
    {
     "name": "stderr",
     "output_type": "stream",
     "text": [
      "/home/ricky42613/miniconda3/envs/chunk-free/lib/python3.12/site-packages/tqdm/auto.py:21: TqdmWarning: IProgress not found. Please update jupyter and ipywidgets. See https://ipywidgets.readthedocs.io/en/stable/user_install.html\n",
      "  from .autonotebook import tqdm as notebook_tqdm\n"
     ]
    }
   ],
   "source": [
    "from prefix_decode import PrefixDecoder\n",
    "prefix_decoder = PrefixDecoder()"
   ]
  },
  {
   "cell_type": "code",
   "execution_count": 2,
   "metadata": {},
   "outputs": [],
   "source": [
    "question = 'What\\'s the most significant news related to cybersecurity in this week? '"
   ]
  },
  {
   "cell_type": "code",
   "execution_count": 3,
   "metadata": {},
   "outputs": [
    {
     "name": "stderr",
     "output_type": "stream",
     "text": [
      "100%|██████████| 5/5 [00:02<00:00,  2.27it/s]\n"
     ]
    },
    {
     "data": {
      "text/plain": [
       "['- The US CISA was also affected by an Ivanti system vulnerability at the beginning of the year. Hackers targeted the US federal high-risk chemical critical infrastructure, infiltrating the Chemical Security Assessment Tool (CSAT) provided by CISA and successfully deploying a Web Shell. Another key infrastructure cybersecurity information tool, CISA Gateway, was also affected.\\n- The OWASP Foundation, well-known for publishing the top ten web application security risks, recently issued a data breach notification. Member resume files from 2006 to 2014 may have been leaked due to a configuration issue on an old Wiki web server.']"
      ]
     },
     "execution_count": 3,
     "metadata": {},
     "output_type": "execute_result"
    }
   ],
   "source": [
    "high_quality_knowledge = prefix_decoder.retrieve_knowledge(question, top_k=2)\n",
    "high_quality_knowledge"
   ]
  },
  {
   "cell_type": "code",
   "execution_count": 4,
   "metadata": {},
   "outputs": [],
   "source": [
    "question2 = 'What did Red Hat announce?'"
   ]
  },
  {
   "cell_type": "code",
   "execution_count": 5,
   "metadata": {},
   "outputs": [
    {
     "name": "stderr",
     "output_type": "stream",
     "text": [
      "100%|██████████| 5/5 [00:01<00:00,  4.68it/s]\n"
     ]
    },
    {
     "data": {
      "text/plain": [
       "['Red Hat also announced a related vulnerability, CVE-2024--3094, with several news articles related to this incident. Fortunately, this hidden backdoor was discovered early, and currently, only some Linux versions are affected, with the impact not being too widespread. However, this supply chain attack targeting open-source software is still under investigation and discussion.\\n\\nNot only the accidental discovery process but also the method of implanting the backdoor has surprised various sectors. The GitHub account involved in this incident had been created in 2021 and 2022, gradually gaining the trust of the original XZ maintainers. This infiltration process has attracted significant attention and has once again sparked discussions on the security of open-source software.']"
      ]
     },
     "execution_count": 5,
     "metadata": {},
     "output_type": "execute_result"
    }
   ],
   "source": [
    "high_quality_knowledge = prefix_decoder.retrieve_knowledge(question2, top_k=2)\n",
    "high_quality_knowledge"
   ]
  }
 ],
 "metadata": {
  "kernelspec": {
   "display_name": "chunk-free",
   "language": "python",
   "name": "python3"
  },
  "language_info": {
   "codemirror_mode": {
    "name": "ipython",
    "version": 3
   },
   "file_extension": ".py",
   "mimetype": "text/x-python",
   "name": "python",
   "nbconvert_exporter": "python",
   "pygments_lexer": "ipython3",
   "version": "3.12.2"
  }
 },
 "nbformat": 4,
 "nbformat_minor": 2
}
