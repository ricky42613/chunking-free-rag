{
 "cells": [
  {
   "cell_type": "code",
   "execution_count": 1,
   "metadata": {},
   "outputs": [
    {
     "name": "stderr",
     "output_type": "stream",
     "text": [
      "/home/ricky42613/miniconda3/envs/chunk-free/lib/python3.12/site-packages/tqdm/auto.py:21: TqdmWarning: IProgress not found. Please update jupyter and ipywidgets. See https://ipywidgets.readthedocs.io/en/stable/user_install.html\n",
      "  from .autonotebook import tqdm as notebook_tqdm\n"
     ]
    }
   ],
   "source": [
    "from prefix_decode import PrefixDecoder\n",
    "prefix_decoder = PrefixDecoder()"
   ]
  },
  {
   "cell_type": "code",
   "execution_count": 2,
   "metadata": {},
   "outputs": [],
   "source": [
    "question = 'What\\'s the most significant news related to cybersecurity in this week? '"
   ]
  },
  {
   "cell_type": "code",
   "execution_count": 3,
   "metadata": {},
   "outputs": [
    {
     "name": "stderr",
     "output_type": "stream",
     "text": [
      "100%|██████████| 5/5 [00:02<00:00,  1.87it/s]\n"
     ]
    }
   ],
   "source": [
    "high_quality_knowledge = prefix_decoder.retrieve_knowledge(question)"
   ]
  },
  {
   "cell_type": "code",
   "execution_count": 4,
   "metadata": {},
   "outputs": [
    {
     "data": {
      "text/plain": [
       "['- The US CISA was also affected by an Ivanti system vulnerability at the beginning of the year. Hackers targeted the US federal high-risk chemical critical infrastructure, infiltrating the Chemical Security Assessment Tool (CSAT) provided by CISA and successfully deploying a Web Shell. Another key infrastructure cybersecurity information tool, CISA Gateway, was also affected.\\n- The OWASP Foundation, well-known for publishing the top ten web application security risks, recently issued a data breach notification. Member resume files from 2006 to 2014 may have been leaked due to a configuration issue on an old Wiki web server.']"
      ]
     },
     "execution_count": 4,
     "metadata": {},
     "output_type": "execute_result"
    }
   ],
   "source": [
    "high_quality_knowledge"
   ]
  }
 ],
 "metadata": {
  "kernelspec": {
   "display_name": "chunk-free",
   "language": "python",
   "name": "python3"
  },
  "language_info": {
   "codemirror_mode": {
    "name": "ipython",
    "version": 3
   },
   "file_extension": ".py",
   "mimetype": "text/x-python",
   "name": "python",
   "nbconvert_exporter": "python",
   "pygments_lexer": "ipython3",
   "version": "3.12.2"
  }
 },
 "nbformat": 4,
 "nbformat_minor": 2
}
